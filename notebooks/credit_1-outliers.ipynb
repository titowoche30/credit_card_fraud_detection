{
 "cells": [
  {
   "cell_type": "markdown",
   "metadata": {},
   "source": [
    "# Kaggle Dataset: https://www.kaggle.com/mlg-ulb/creditcardfraud "
   ]
  },
  {
   "cell_type": "code",
   "execution_count": 1,
   "metadata": {},
   "outputs": [],
   "source": [
    "import numpy as np\n",
    "import pandas as pd\n",
    "import matplotlib.pyplot as plt\n",
    "import seaborn as sns\n",
    "plt.style.use('seaborn')\n"
   ]
  },
  {
   "cell_type": "code",
   "execution_count": 2,
   "metadata": {},
   "outputs": [],
   "source": [
    "from math import floor,ceil "
   ]
  },
  {
   "cell_type": "code",
   "execution_count": 348,
   "metadata": {},
   "outputs": [
    {
     "data": {
      "text/html": [
       "<div>\n",
       "<style scoped>\n",
       "    .dataframe tbody tr th:only-of-type {\n",
       "        vertical-align: middle;\n",
       "    }\n",
       "\n",
       "    .dataframe tbody tr th {\n",
       "        vertical-align: top;\n",
       "    }\n",
       "\n",
       "    .dataframe thead th {\n",
       "        text-align: right;\n",
       "    }\n",
       "</style>\n",
       "<table border=\"1\" class=\"dataframe\">\n",
       "  <thead>\n",
       "    <tr style=\"text-align: right;\">\n",
       "      <th></th>\n",
       "      <th>Time</th>\n",
       "      <th>V1</th>\n",
       "      <th>V2</th>\n",
       "      <th>V3</th>\n",
       "      <th>V4</th>\n",
       "      <th>V5</th>\n",
       "      <th>V6</th>\n",
       "      <th>V7</th>\n",
       "      <th>V8</th>\n",
       "      <th>V9</th>\n",
       "      <th>...</th>\n",
       "      <th>V21</th>\n",
       "      <th>V22</th>\n",
       "      <th>V23</th>\n",
       "      <th>V24</th>\n",
       "      <th>V25</th>\n",
       "      <th>V26</th>\n",
       "      <th>V27</th>\n",
       "      <th>V28</th>\n",
       "      <th>Amount</th>\n",
       "      <th>Class</th>\n",
       "    </tr>\n",
       "  </thead>\n",
       "  <tbody>\n",
       "    <tr>\n",
       "      <th>0</th>\n",
       "      <td>0.0</td>\n",
       "      <td>-1.359807</td>\n",
       "      <td>-0.072781</td>\n",
       "      <td>2.536347</td>\n",
       "      <td>1.378155</td>\n",
       "      <td>-0.338321</td>\n",
       "      <td>0.462388</td>\n",
       "      <td>0.239599</td>\n",
       "      <td>0.098698</td>\n",
       "      <td>0.363787</td>\n",
       "      <td>...</td>\n",
       "      <td>-0.018307</td>\n",
       "      <td>0.277838</td>\n",
       "      <td>-0.110474</td>\n",
       "      <td>0.066928</td>\n",
       "      <td>0.128539</td>\n",
       "      <td>-0.189115</td>\n",
       "      <td>0.133558</td>\n",
       "      <td>-0.021053</td>\n",
       "      <td>149.62</td>\n",
       "      <td>0</td>\n",
       "    </tr>\n",
       "    <tr>\n",
       "      <th>1</th>\n",
       "      <td>0.0</td>\n",
       "      <td>1.191857</td>\n",
       "      <td>0.266151</td>\n",
       "      <td>0.166480</td>\n",
       "      <td>0.448154</td>\n",
       "      <td>0.060018</td>\n",
       "      <td>-0.082361</td>\n",
       "      <td>-0.078803</td>\n",
       "      <td>0.085102</td>\n",
       "      <td>-0.255425</td>\n",
       "      <td>...</td>\n",
       "      <td>-0.225775</td>\n",
       "      <td>-0.638672</td>\n",
       "      <td>0.101288</td>\n",
       "      <td>-0.339846</td>\n",
       "      <td>0.167170</td>\n",
       "      <td>0.125895</td>\n",
       "      <td>-0.008983</td>\n",
       "      <td>0.014724</td>\n",
       "      <td>2.69</td>\n",
       "      <td>0</td>\n",
       "    </tr>\n",
       "    <tr>\n",
       "      <th>2</th>\n",
       "      <td>1.0</td>\n",
       "      <td>-1.358354</td>\n",
       "      <td>-1.340163</td>\n",
       "      <td>1.773209</td>\n",
       "      <td>0.379780</td>\n",
       "      <td>-0.503198</td>\n",
       "      <td>1.800499</td>\n",
       "      <td>0.791461</td>\n",
       "      <td>0.247676</td>\n",
       "      <td>-1.514654</td>\n",
       "      <td>...</td>\n",
       "      <td>0.247998</td>\n",
       "      <td>0.771679</td>\n",
       "      <td>0.909412</td>\n",
       "      <td>-0.689281</td>\n",
       "      <td>-0.327642</td>\n",
       "      <td>-0.139097</td>\n",
       "      <td>-0.055353</td>\n",
       "      <td>-0.059752</td>\n",
       "      <td>378.66</td>\n",
       "      <td>0</td>\n",
       "    </tr>\n",
       "    <tr>\n",
       "      <th>3</th>\n",
       "      <td>1.0</td>\n",
       "      <td>-0.966272</td>\n",
       "      <td>-0.185226</td>\n",
       "      <td>1.792993</td>\n",
       "      <td>-0.863291</td>\n",
       "      <td>-0.010309</td>\n",
       "      <td>1.247203</td>\n",
       "      <td>0.237609</td>\n",
       "      <td>0.377436</td>\n",
       "      <td>-1.387024</td>\n",
       "      <td>...</td>\n",
       "      <td>-0.108300</td>\n",
       "      <td>0.005274</td>\n",
       "      <td>-0.190321</td>\n",
       "      <td>-1.175575</td>\n",
       "      <td>0.647376</td>\n",
       "      <td>-0.221929</td>\n",
       "      <td>0.062723</td>\n",
       "      <td>0.061458</td>\n",
       "      <td>123.50</td>\n",
       "      <td>0</td>\n",
       "    </tr>\n",
       "    <tr>\n",
       "      <th>4</th>\n",
       "      <td>2.0</td>\n",
       "      <td>-1.158233</td>\n",
       "      <td>0.877737</td>\n",
       "      <td>1.548718</td>\n",
       "      <td>0.403034</td>\n",
       "      <td>-0.407193</td>\n",
       "      <td>0.095921</td>\n",
       "      <td>0.592941</td>\n",
       "      <td>-0.270533</td>\n",
       "      <td>0.817739</td>\n",
       "      <td>...</td>\n",
       "      <td>-0.009431</td>\n",
       "      <td>0.798278</td>\n",
       "      <td>-0.137458</td>\n",
       "      <td>0.141267</td>\n",
       "      <td>-0.206010</td>\n",
       "      <td>0.502292</td>\n",
       "      <td>0.219422</td>\n",
       "      <td>0.215153</td>\n",
       "      <td>69.99</td>\n",
       "      <td>0</td>\n",
       "    </tr>\n",
       "  </tbody>\n",
       "</table>\n",
       "<p>5 rows × 31 columns</p>\n",
       "</div>"
      ],
      "text/plain": [
       "   Time        V1        V2        V3        V4        V5        V6        V7  \\\n",
       "0   0.0 -1.359807 -0.072781  2.536347  1.378155 -0.338321  0.462388  0.239599   \n",
       "1   0.0  1.191857  0.266151  0.166480  0.448154  0.060018 -0.082361 -0.078803   \n",
       "2   1.0 -1.358354 -1.340163  1.773209  0.379780 -0.503198  1.800499  0.791461   \n",
       "3   1.0 -0.966272 -0.185226  1.792993 -0.863291 -0.010309  1.247203  0.237609   \n",
       "4   2.0 -1.158233  0.877737  1.548718  0.403034 -0.407193  0.095921  0.592941   \n",
       "\n",
       "         V8        V9  ...       V21       V22       V23       V24       V25  \\\n",
       "0  0.098698  0.363787  ... -0.018307  0.277838 -0.110474  0.066928  0.128539   \n",
       "1  0.085102 -0.255425  ... -0.225775 -0.638672  0.101288 -0.339846  0.167170   \n",
       "2  0.247676 -1.514654  ...  0.247998  0.771679  0.909412 -0.689281 -0.327642   \n",
       "3  0.377436 -1.387024  ... -0.108300  0.005274 -0.190321 -1.175575  0.647376   \n",
       "4 -0.270533  0.817739  ... -0.009431  0.798278 -0.137458  0.141267 -0.206010   \n",
       "\n",
       "        V26       V27       V28  Amount  Class  \n",
       "0 -0.189115  0.133558 -0.021053  149.62      0  \n",
       "1  0.125895 -0.008983  0.014724    2.69      0  \n",
       "2 -0.139097 -0.055353 -0.059752  378.66      0  \n",
       "3 -0.221929  0.062723  0.061458  123.50      0  \n",
       "4  0.502292  0.219422  0.215153   69.99      0  \n",
       "\n",
       "[5 rows x 31 columns]"
      ]
     },
     "execution_count": 348,
     "metadata": {},
     "output_type": "execute_result"
    }
   ],
   "source": [
    "df = pd.read_csv('data/creditcard.csv')\n",
    "df.head()"
   ]
  },
  {
   "cell_type": "code",
   "execution_count": 349,
   "metadata": {},
   "outputs": [],
   "source": [
    "X = df.drop(['Class','Time'],axis=1)\n",
    "y = df['Class']"
   ]
  },
  {
   "cell_type": "code",
   "execution_count": 238,
   "metadata": {},
   "outputs": [],
   "source": [
    "from sklearn.model_selection import train_test_split\n"
   ]
  },
  {
   "cell_type": "code",
   "execution_count": 350,
   "metadata": {},
   "outputs": [],
   "source": [
    "X_train, X_test, y_train, y_test=train_test_split(X,y,test_size=0.33,random_state=42)"
   ]
  },
  {
   "cell_type": "markdown",
   "metadata": {},
   "source": [
    "# Outliers Detection"
   ]
  },
  {
   "cell_type": "markdown",
   "metadata": {},
   "source": [
    "## Extreme Value Analysis: Determine the statistical tails of the underlying distribution of the variable and find the values at the extreme end of the tails."
   ]
  },
  {
   "cell_type": "code",
   "execution_count": 351,
   "metadata": {},
   "outputs": [],
   "source": [
    "IQR_train = X_train.quantile(0.75) - X_train.quantile(0.25)\n",
    "IQR_test = X_test.quantile(0.75) - X_test.quantile(0.25)\n"
   ]
  },
  {
   "cell_type": "code",
   "execution_count": 352,
   "metadata": {},
   "outputs": [],
   "source": [
    "upper_bound_train = X_train.quantile(0.75) + (IQR_train * 1.5)\n",
    "upper_bound_test = X_test.quantile(0.75) + (IQR_test * 1.5)\n",
    "\n",
    "lower_bound_train = X_train.quantile(0.25) - (IQR_train * 1.5)\n",
    "lower_bound_test = X_test.quantile(0.25) - (IQR_test * 1.5)"
   ]
  },
  {
   "cell_type": "code",
   "execution_count": 353,
   "metadata": {
    "scrolled": true
   },
   "outputs": [
    {
     "name": "stdout",
     "output_type": "stream",
     "text": [
      "col = V1, rate of samples > 4.668008598275191 = 0\n",
      "col = V1, rate of samples < -4.276654659775279 = 4726 \n",
      "\n",
      "col = V2, rate of samples > 2.9060685297864195 = 3406\n",
      "col = V2, rate of samples < -2.7029529796699117 = 5658 \n",
      "\n",
      "col = V3, rate of samples > 3.899524060129596 = 12\n",
      "col = V3, rate of samples < -3.7547945263578266 = 2251 \n",
      "\n",
      "col = V4, rate of samples > 3.1305673122501885 = 6011\n",
      "col = V4, rate of samples < -3.2382388737064804 = 1492 \n",
      "\n",
      "col = V5, rate of samples > 2.5559330816884547 = 5723\n",
      "col = V5, rate of samples < -2.6363136003687053 = 2596 \n",
      "\n",
      "col = V6, rate of samples > 2.136711714846716 = 14183\n",
      "col = V6, rate of samples < -2.510633353373759 = 1197 \n",
      "\n",
      "col = V7, rate of samples > 2.2530437527533733 = 2774\n",
      "col = V7, rate of samples < -2.2340830874277264 = 3219 \n",
      "\n",
      "col = V8, rate of samples > 1.128989917363102 = 7958\n",
      "col = V8, rate of samples < -1.0088046797888761 = 8226 \n",
      "\n",
      "col = V9, rate of samples > 2.457338796619432 = 3870\n",
      "col = V9, rate of samples < -2.5030622771810815 = 1678 \n",
      "\n",
      "col = V10, rate of samples > 1.935692728524883 = 4134\n",
      "col = V10, rate of samples < -2.0199909955095694 = 2276 \n",
      "\n",
      "col = V11, rate of samples > 2.991890297495936 = 456\n",
      "col = V11, rate of samples < -3.0135934829183637 = 80 \n",
      "\n",
      "col = V12, rate of samples > 2.1570500155898085 = 501\n",
      "col = V12, rate of samples < -1.9436000034830194 = 9765 \n",
      "\n",
      "col = V13, rate of samples > 2.6221648670150457 = 1560\n",
      "col = V13, rate of samples < -2.6097964369925593 = 780 \n",
      "\n",
      "col = V14, rate of samples > 1.8708774741299317 = 3588\n",
      "col = V14, rate of samples < -1.8050418829653114 = 5910 \n",
      "\n",
      "col = V15, rate of samples > 2.4926551434304387 = 279\n",
      "col = V15, rate of samples < -2.4265740761752723 = 1628 \n",
      "\n",
      "col = V16, rate of samples > 2.0108891097880095 = 1123\n",
      "col = V16, rate of samples < -1.9545759618347123 = 4434 \n",
      "\n",
      "col = V17, rate of samples > 1.731109251560786 = 4411\n",
      "col = V17, rate of samples < -1.8162199573564994 = 502 \n",
      "\n",
      "col = V18, rate of samples > 2.0017634489765084 = 2338\n",
      "col = V18, rate of samples < -1.9980617859089072 = 2631 \n",
      "\n",
      "col = V19, rate of samples > 1.8294693127882438 = 3504\n",
      "col = V19, rate of samples < -1.8259465555812096 = 3398 \n",
      "\n",
      "col = V20, rate of samples > 0.651750623411732 = 12773\n",
      "col = V20, rate of samples < -0.729921731678882 = 5802 \n",
      "\n",
      "col = V21, rate of samples > 0.8086245973549107 = 5382\n",
      "col = V21, rate of samples < -0.8514163193942191 = 4308 \n",
      "\n",
      "col = V22, rate of samples > 2.129553715458691 = 258\n",
      "col = V22, rate of samples < -2.146666852825282 = 633 \n",
      "\n",
      "col = V23, rate of samples > 0.6113615551640877 = 6986\n",
      "col = V23, rate of samples < -0.6248334068080482 = 5511 \n",
      "\n",
      "col = V24, rate of samples > 1.6302069223088798 = 89\n",
      "col = V24, rate of samples < -1.5457193384356303 = 3128 \n",
      "\n",
      "col = V25, rate of samples > 1.352190741397706 = 1116\n",
      "col = V25, rate of samples < -1.31956825109395 = 2517 \n",
      "\n",
      "col = V26, rate of samples > 1.0956673352750854 = 3201\n",
      "col = V26, rate of samples < -1.1803647237623276 = 492 \n",
      "\n",
      "col = V27, rate of samples > 0.33514345404521273 = 12943\n",
      "col = V27, rate of samples < -0.31473981570184406 = 13141 \n",
      "\n",
      "col = V28, rate of samples > 0.27628271827332035 = 7820\n",
      "col = V28, rate of samples < -0.25073701350514405 = 12389 \n",
      "\n",
      "col = Amount, rate of samples > 184.97125 = 21459\n",
      "col = Amount, rate of samples < -101.95875 = 0 \n",
      "\n"
     ]
    }
   ],
   "source": [
    "total = X_train.shape[0]\n",
    "for col in X_train.columns:\n",
    "    up_b = upper_bound_train[col]\n",
    "    lw_b = lower_bound_train[col]\n",
    "    sub1 = X_train[X_train[col] > up_b]\n",
    "    sub2 = X_train[X_train[col] < lw_b]\n",
    "    rate_up = sub1.shape[0]\n",
    "    rate_lw = sub2.shape[0]\n",
    "    print('col = {}, rate of samples > {} = {}'.format(col,up_b,rate_up))\n",
    "    print('col = {}, rate of samples < {} = {} \\n'.format(col,lw_b,rate_lw))\n",
    "    \n",
    "# up = v6 com 7%, v20 e v27 com 6%\n",
    "# lw = v12 com 5%,v27 e v28 com 6%"
   ]
  },
  {
   "cell_type": "markdown",
   "metadata": {},
   "source": [
    "### How many outliers are frauds"
   ]
  },
  {
   "cell_type": "code",
   "execution_count": 279,
   "metadata": {},
   "outputs": [
    {
     "data": {
      "text/html": [
       "<div>\n",
       "<style scoped>\n",
       "    .dataframe tbody tr th:only-of-type {\n",
       "        vertical-align: middle;\n",
       "    }\n",
       "\n",
       "    .dataframe tbody tr th {\n",
       "        vertical-align: top;\n",
       "    }\n",
       "\n",
       "    .dataframe thead th {\n",
       "        text-align: right;\n",
       "    }\n",
       "</style>\n",
       "<table border=\"1\" class=\"dataframe\">\n",
       "  <thead>\n",
       "    <tr style=\"text-align: right;\">\n",
       "      <th></th>\n",
       "      <th>Time</th>\n",
       "      <th>V1</th>\n",
       "      <th>V2</th>\n",
       "      <th>V3</th>\n",
       "      <th>V4</th>\n",
       "      <th>V5</th>\n",
       "      <th>V6</th>\n",
       "      <th>V7</th>\n",
       "      <th>V8</th>\n",
       "      <th>V9</th>\n",
       "      <th>...</th>\n",
       "      <th>V21</th>\n",
       "      <th>V22</th>\n",
       "      <th>V23</th>\n",
       "      <th>V24</th>\n",
       "      <th>V25</th>\n",
       "      <th>V26</th>\n",
       "      <th>V27</th>\n",
       "      <th>V28</th>\n",
       "      <th>Amount</th>\n",
       "      <th>Class</th>\n",
       "    </tr>\n",
       "  </thead>\n",
       "  <tbody>\n",
       "    <tr>\n",
       "      <th>0</th>\n",
       "      <td>0.0</td>\n",
       "      <td>-1.359807</td>\n",
       "      <td>-0.072781</td>\n",
       "      <td>2.536347</td>\n",
       "      <td>1.378155</td>\n",
       "      <td>-0.338321</td>\n",
       "      <td>0.462388</td>\n",
       "      <td>0.239599</td>\n",
       "      <td>0.098698</td>\n",
       "      <td>0.363787</td>\n",
       "      <td>...</td>\n",
       "      <td>-0.018307</td>\n",
       "      <td>0.277838</td>\n",
       "      <td>-0.110474</td>\n",
       "      <td>0.066928</td>\n",
       "      <td>0.128539</td>\n",
       "      <td>-0.189115</td>\n",
       "      <td>0.133558</td>\n",
       "      <td>-0.021053</td>\n",
       "      <td>149.62</td>\n",
       "      <td>0</td>\n",
       "    </tr>\n",
       "    <tr>\n",
       "      <th>1</th>\n",
       "      <td>0.0</td>\n",
       "      <td>1.191857</td>\n",
       "      <td>0.266151</td>\n",
       "      <td>0.166480</td>\n",
       "      <td>0.448154</td>\n",
       "      <td>0.060018</td>\n",
       "      <td>-0.082361</td>\n",
       "      <td>-0.078803</td>\n",
       "      <td>0.085102</td>\n",
       "      <td>-0.255425</td>\n",
       "      <td>...</td>\n",
       "      <td>-0.225775</td>\n",
       "      <td>-0.638672</td>\n",
       "      <td>0.101288</td>\n",
       "      <td>-0.339846</td>\n",
       "      <td>0.167170</td>\n",
       "      <td>0.125895</td>\n",
       "      <td>-0.008983</td>\n",
       "      <td>0.014724</td>\n",
       "      <td>2.69</td>\n",
       "      <td>0</td>\n",
       "    </tr>\n",
       "    <tr>\n",
       "      <th>2</th>\n",
       "      <td>1.0</td>\n",
       "      <td>-1.358354</td>\n",
       "      <td>-1.340163</td>\n",
       "      <td>1.773209</td>\n",
       "      <td>0.379780</td>\n",
       "      <td>-0.503198</td>\n",
       "      <td>1.800499</td>\n",
       "      <td>0.791461</td>\n",
       "      <td>0.247676</td>\n",
       "      <td>-1.514654</td>\n",
       "      <td>...</td>\n",
       "      <td>0.247998</td>\n",
       "      <td>0.771679</td>\n",
       "      <td>0.909412</td>\n",
       "      <td>-0.689281</td>\n",
       "      <td>-0.327642</td>\n",
       "      <td>-0.139097</td>\n",
       "      <td>-0.055353</td>\n",
       "      <td>-0.059752</td>\n",
       "      <td>378.66</td>\n",
       "      <td>0</td>\n",
       "    </tr>\n",
       "    <tr>\n",
       "      <th>3</th>\n",
       "      <td>1.0</td>\n",
       "      <td>-0.966272</td>\n",
       "      <td>-0.185226</td>\n",
       "      <td>1.792993</td>\n",
       "      <td>-0.863291</td>\n",
       "      <td>-0.010309</td>\n",
       "      <td>1.247203</td>\n",
       "      <td>0.237609</td>\n",
       "      <td>0.377436</td>\n",
       "      <td>-1.387024</td>\n",
       "      <td>...</td>\n",
       "      <td>-0.108300</td>\n",
       "      <td>0.005274</td>\n",
       "      <td>-0.190321</td>\n",
       "      <td>-1.175575</td>\n",
       "      <td>0.647376</td>\n",
       "      <td>-0.221929</td>\n",
       "      <td>0.062723</td>\n",
       "      <td>0.061458</td>\n",
       "      <td>123.50</td>\n",
       "      <td>0</td>\n",
       "    </tr>\n",
       "    <tr>\n",
       "      <th>4</th>\n",
       "      <td>2.0</td>\n",
       "      <td>-1.158233</td>\n",
       "      <td>0.877737</td>\n",
       "      <td>1.548718</td>\n",
       "      <td>0.403034</td>\n",
       "      <td>-0.407193</td>\n",
       "      <td>0.095921</td>\n",
       "      <td>0.592941</td>\n",
       "      <td>-0.270533</td>\n",
       "      <td>0.817739</td>\n",
       "      <td>...</td>\n",
       "      <td>-0.009431</td>\n",
       "      <td>0.798278</td>\n",
       "      <td>-0.137458</td>\n",
       "      <td>0.141267</td>\n",
       "      <td>-0.206010</td>\n",
       "      <td>0.502292</td>\n",
       "      <td>0.219422</td>\n",
       "      <td>0.215153</td>\n",
       "      <td>69.99</td>\n",
       "      <td>0</td>\n",
       "    </tr>\n",
       "  </tbody>\n",
       "</table>\n",
       "<p>5 rows × 31 columns</p>\n",
       "</div>"
      ],
      "text/plain": [
       "   Time        V1        V2        V3        V4        V5        V6        V7  \\\n",
       "0   0.0 -1.359807 -0.072781  2.536347  1.378155 -0.338321  0.462388  0.239599   \n",
       "1   0.0  1.191857  0.266151  0.166480  0.448154  0.060018 -0.082361 -0.078803   \n",
       "2   1.0 -1.358354 -1.340163  1.773209  0.379780 -0.503198  1.800499  0.791461   \n",
       "3   1.0 -0.966272 -0.185226  1.792993 -0.863291 -0.010309  1.247203  0.237609   \n",
       "4   2.0 -1.158233  0.877737  1.548718  0.403034 -0.407193  0.095921  0.592941   \n",
       "\n",
       "         V8        V9  ...       V21       V22       V23       V24       V25  \\\n",
       "0  0.098698  0.363787  ... -0.018307  0.277838 -0.110474  0.066928  0.128539   \n",
       "1  0.085102 -0.255425  ... -0.225775 -0.638672  0.101288 -0.339846  0.167170   \n",
       "2  0.247676 -1.514654  ...  0.247998  0.771679  0.909412 -0.689281 -0.327642   \n",
       "3  0.377436 -1.387024  ... -0.108300  0.005274 -0.190321 -1.175575  0.647376   \n",
       "4 -0.270533  0.817739  ... -0.009431  0.798278 -0.137458  0.141267 -0.206010   \n",
       "\n",
       "        V26       V27       V28  Amount  Class  \n",
       "0 -0.189115  0.133558 -0.021053  149.62      0  \n",
       "1  0.125895 -0.008983  0.014724    2.69      0  \n",
       "2 -0.139097 -0.055353 -0.059752  378.66      0  \n",
       "3 -0.221929  0.062723  0.061458  123.50      0  \n",
       "4  0.502292  0.219422  0.215153   69.99      0  \n",
       "\n",
       "[5 rows x 31 columns]"
      ]
     },
     "execution_count": 279,
     "metadata": {},
     "output_type": "execute_result"
    }
   ],
   "source": [
    "df.head()"
   ]
  },
  {
   "cell_type": "code",
   "execution_count": 205,
   "metadata": {},
   "outputs": [],
   "source": [
    "data = df.drop(['Time'],axis=1)\n",
    "IQR = data.quantile(0.75) - data.quantile(0.25)\n",
    "\n"
   ]
  },
  {
   "cell_type": "code",
   "execution_count": 206,
   "metadata": {},
   "outputs": [],
   "source": [
    "upper_bound = data.quantile(0.75) + (IQR * 1.5)\n",
    "lower_bound = data.quantile(0.25) - (IQR * 1.5)\n"
   ]
  },
  {
   "cell_type": "code",
   "execution_count": 207,
   "metadata": {},
   "outputs": [],
   "source": [
    "IQR.drop(['Class'],inplace=True)"
   ]
  },
  {
   "cell_type": "code",
   "execution_count": 208,
   "metadata": {},
   "outputs": [],
   "source": [
    "upper_bound.drop(['Class'],inplace=True)\n",
    "lower_bound.drop(['Class'],inplace=True)"
   ]
  },
  {
   "cell_type": "code",
   "execution_count": 209,
   "metadata": {
    "scrolled": true
   },
   "outputs": [
    {
     "name": "stdout",
     "output_type": "stream",
     "text": [
      "col = V1, rate of samples > 4.669664311280145 = 0.0\n",
      "col = V1, rate of samples < -4.274396001792602 = 0.024795738868777804 \n",
      "\n",
      "col = V2, rate of samples > 2.907134548297611 = 0.017892818645609133\n",
      "col = V2, rate of samples < -2.701960590522432 = 0.029598991597818872 \n",
      "\n",
      "col = V3, rate of samples > 3.9035361133965982 = 7.022299311463552e-05\n",
      "col = V3, rate of samples < -3.7667054090861836 = 0.011737773299111328 \n",
      "\n",
      "col = V4, rate of samples > 3.1313133981683787 = 0.03126678768429147\n",
      "col = V4, rate of samples < -3.236612225031064 = 0.007875508677806373 \n",
      "\n",
      "col = V5, rate of samples > 2.5672117056694685 = 0.02953227975435997\n",
      "col = V5, rate of samples < -2.646882336821933 = 0.013637305262862219 \n",
      "\n",
      "col = V6, rate of samples > 2.148855653580996 = 0.07448201764703817\n",
      "col = V6, rate of samples < -2.51858636568538 = 0.006151534196842072 \n",
      "\n",
      "Upper\n",
      "Number of frauds=16,total= 21213,rate=0.0007542544666006694 \n",
      "\n",
      "col = V7, rate of samples > 2.2572040007487804 = 0.01452913727541809\n",
      "col = V7, rate of samples < -2.240843806907704 = 0.016888629844069844 \n",
      "\n",
      "col = V8, rate of samples > 1.1313092708678223 = 0.04177214745424094\n",
      "col = V8, rate of samples < -1.0125931529838397 = 0.042965938337189744 \n",
      "\n",
      "col = V9, rate of samples > 2.457493931105559 = 0.0205191585880965\n",
      "col = V9, rate of samples < -2.503452471089882 = 0.008563694010329803 \n",
      "\n",
      "col = V10, rate of samples > 1.9379472025887527 = 0.021516325090324324\n",
      "col = V10, rate of samples < -2.0194494839425694 = 0.011825552040504622 \n",
      "\n",
      "col = V11, rate of samples > 2.9927248115734812 = 0.002320869922438704\n",
      "col = V11, rate of samples < -3.015625599764853 = 0.0004178268090320814 \n",
      "\n",
      "col = V12, rate of samples > 2.153952310525961 = 0.002700074085257736\n",
      "col = V12, rate of samples < -1.941285763020238 = 0.05118905083091357 \n",
      "\n",
      "Lower\n",
      "Number of frauds=409,total= 14579,rate=0.02805405034638864 \n",
      "\n",
      "col = V13, rate of samples > 2.629071347271788 = 0.00782635258262613\n",
      "col = V13, rate of samples < -2.6151056869463822 = 0.003999199457878493 \n",
      "\n",
      "col = V14, rate of samples > 1.8712356417278626 = 0.018932118943705736\n",
      "col = V14, rate of samples < -1.803659804964707 = 0.030747137535243163 \n",
      "\n",
      "col = V15, rate of samples > 2.496378434529079 = 0.001506283202308932\n",
      "col = V15, rate of samples < -2.4304419073693766 = 0.008654983901378829 \n",
      "\n",
      "col = V16, rate of samples > 2.010295931257707 = 0.0058390418774819436\n",
      "col = V16, rate of samples < -1.955036385495261 = 0.022896206905026913 \n",
      "\n",
      "col = V17, rate of samples > 1.7248099271865331 = 0.023394790156140825\n",
      "col = V17, rate of samples < -1.8088832582431966 = 0.0026579402893889548 \n",
      "\n",
      "col = V18, rate of samples > 2.0002915652156013 = 0.012454047828880611\n",
      "col = V18, rate of samples < -1.9983346169934266 = 0.01399544252774686 \n",
      "\n",
      "col = V19, rate of samples > 1.8318217675233686 = 0.018054331529772795\n",
      "col = V19, rate of samples < -1.8291713305051371 = 0.017776950706969982 \n",
      "\n",
      "col = V20, rate of samples > 0.6501841494971068 = 0.06701731347895241\n",
      "col = V20, rate of samples < -0.7288646731770594 = 0.030487312460719014 \n",
      "\n",
      "Upper\n",
      "Number of frauds=143,total= 19087,rate=0.00749201026876932 \n",
      "\n",
      "col = V21, rate of samples > 0.8085354286142141 = 0.028296355075542384\n",
      "col = V21, rate of samples < -0.8505531720141557 = 0.022604781483601174 \n",
      "\n",
      "col = V22, rate of samples > 2.1349096473259586 = 0.0013728595153911245\n",
      "col = V22, rate of samples < -2.148706384652634 = 0.003251324581207625 \n",
      "\n",
      "col = V23, rate of samples > 0.6118746771624516 = 0.03641413307959425\n",
      "col = V23, rate of samples < -0.6260789583212861 = 0.02868609268732861 \n",
      "\n",
      "col = V24, rate of samples > 1.6306957050347126 = 0.0004775163531795216\n",
      "col = V24, rate of samples < -1.5457552412760251 = 0.01628471210328398 \n",
      "\n",
      "col = V25, rate of samples > 1.35250648826637 = 0.005895220271973652\n",
      "col = V25, rate of samples < -1.318935979464254 = 0.01294911993033879 \n",
      "\n",
      "col = V26, rate of samples > 1.092856323107968 = 0.017088765374446556\n",
      "col = V26, rate of samples < -1.178888075273932 = 0.002559628099028465 \n",
      "\n",
      "col = V27, rate of samples > 0.333872093171221 = 0.06888524509580171\n",
      "col = V27, rate of samples < -0.3136665027898834 = 0.06862190887162184 \n",
      "\n",
      "Upper\n",
      "Number of frauds=261,total= 19619,rate=0.013303430348131914 \n",
      "\n",
      "Lower\n",
      "Number of frauds=83,total= 19544,rate=0.004246827670896439 \n",
      "\n",
      "col = V28, rate of samples > 0.2751395764200217 = 0.04143156593763496\n",
      "col = V28, rate of samples < -0.24981941467918245 = 0.0651037369165786 \n",
      "\n",
      "Lower\n",
      "Number of frauds=94,total= 18542,rate=0.0050695717829791825 \n",
      "\n",
      "col = Amount, rate of samples > 184.5125 = 0.11201971861646659\n",
      "col = Amount, rate of samples < -101.7475 = 0.0 \n",
      "\n",
      "Upper\n",
      "Number of frauds=91,total= 31904,rate=0.002852306920762287 \n",
      "\n"
     ]
    }
   ],
   "source": [
    "total = data.shape[0]\n",
    "for col in data.drop(['Class'],axis=1).columns:\n",
    "    up_b = upper_bound[col]\n",
    "    lw_b = lower_bound[col]\n",
    "    sub1 = data[data[col] > up_b]\n",
    "    sub2 = data[data[col] < lw_b]\n",
    "    rate_up = sub1.shape[0]/total\n",
    "    rate_lw = sub2.shape[0]/total\n",
    "    print('col = {}, rate of samples > {} = {}'.format(col,up_b,rate_up))\n",
    "    print('col = {}, rate of samples < {} = {} \\n'.format(col,lw_b,rate_lw))\n",
    "    \n",
    "    if rate_up >= 0.05:\n",
    "        print('Upper')\n",
    "        print('Number of frauds={},total= {},rate={} \\n'.format(sub1['Class'].sum(),sub1.shape[0],sub1['Class'].sum()/sub1.shape[0]))\n",
    "    \n",
    "    if rate_lw >= 0.05:\n",
    "        print('Lower')\n",
    "        print('Number of frauds={},total= {},rate={} \\n'.format(sub2['Class'].sum(),sub2.shape[0],sub2['Class'].sum()/sub2.shape[0]))\n"
   ]
  },
  {
   "cell_type": "markdown",
   "metadata": {},
   "source": [
    "## Standard Score (Z Score):  Represents how many standard deviations a given measurement deviates from the mean. In other words it merely re-scales, or standardizes your data. A Z-score serves to specify the precise location of each observation within a distribution. The sign of the Z-score (+ or — ) indicates whether the score is above (+) or below ( — ) the mean. Once we’ve centered and rescaled the data, anything that is too far from zero (the threshold is usually a Z-score of 3 or -3) should be considered an outlier.\n",
    "### $z=\\frac{x-\\mu}{\\sigma}$\n",
    "\n",
    "### Transforms the mean to 0 and the std to 1, it DOES NOT transforms into a Normal(0,1) (only if it's already normally distributed)\n"
   ]
  },
  {
   "cell_type": "code",
   "execution_count": 183,
   "metadata": {},
   "outputs": [],
   "source": [
    "from sklearn.preprocessing import scale"
   ]
  },
  {
   "cell_type": "code",
   "execution_count": 184,
   "metadata": {},
   "outputs": [],
   "source": [
    "X_train_z=scale(X_train)\n",
    "X_test_z=scale(X_test)"
   ]
  },
  {
   "cell_type": "code",
   "execution_count": 185,
   "metadata": {},
   "outputs": [
    {
     "data": {
      "text/plain": [
       "1.7719334258841845e-19"
      ]
     },
     "execution_count": 185,
     "metadata": {},
     "output_type": "execute_result"
    }
   ],
   "source": [
    "X_train_z.mean()"
   ]
  },
  {
   "cell_type": "code",
   "execution_count": 186,
   "metadata": {},
   "outputs": [
    {
     "data": {
      "text/plain": [
       "0.9999999999999997"
      ]
     },
     "execution_count": 186,
     "metadata": {},
     "output_type": "execute_result"
    }
   ],
   "source": [
    "X_train_z.std()"
   ]
  },
  {
   "cell_type": "code",
   "execution_count": 187,
   "metadata": {},
   "outputs": [],
   "source": [
    "X_train_z = pd.DataFrame(data=X_train_z,columns=X_train.columns,index=X_train.index)\n",
    "X_test_z = pd.DataFrame(data=X_test_z,columns=X_test.columns,index=X_test.index)"
   ]
  },
  {
   "cell_type": "code",
   "execution_count": 188,
   "metadata": {
    "scrolled": true
   },
   "outputs": [
    {
     "name": "stdout",
     "output_type": "stream",
     "text": [
      "col = V1, rate of samples > 3 = 0.0\n",
      "col = V1, rate of samples < -3 = 0.01288648988575621 \n",
      "\n",
      "col = V2, rate of samples > 3 = 0.004962792160150928\n",
      "col = V2, rate of samples < -3 = 0.009852216748768473 \n",
      "\n",
      "col = V3, rate of samples > 3 = 0.0\n",
      "col = V3, rate of samples < -3 = 0.0069175138874331835 \n",
      "\n",
      "col = V4, rate of samples > 3 = 0.01005659784089718\n",
      "col = V4, rate of samples < -3 = 0.0008280054501624567 \n",
      "\n",
      "col = V5, rate of samples > 3 = 0.004826538098731789\n",
      "col = V5, rate of samples < -3 = 0.0053139083953464 \n",
      "\n",
      "col = V6, rate of samples > 3 = 0.01389267372392831\n",
      "col = V6, rate of samples < -3 = 0.0021748244418824023 \n",
      "\n",
      "col = V7, rate of samples > 3 = 0.004852740802850854\n",
      "col = V7, rate of samples < -3 = 0.006681689550361598 \n",
      "\n",
      "col = V8, rate of samples > 3 = 0.0034220731579499004\n",
      "col = V8, rate of samples < -3 = 0.011398176291793313 \n",
      "\n",
      "col = V9, rate of samples > 3 = 0.007106173357090451\n",
      "col = V9, rate of samples < -3 = 0.0010428676239387904 \n",
      "\n",
      "col = V10, rate of samples > 3 = 0.010025154595954303\n",
      "col = V10, rate of samples < -3 = 0.002342521748244419 \n",
      "\n",
      "col = V11, rate of samples > 3 = 0.002085735247877581\n",
      "col = V11, rate of samples < -3 = 0.0003458756943716592 \n",
      "\n",
      "col = V12, rate of samples > 3 = 0.000592181113090871\n",
      "col = V12, rate of samples < -3 = 0.011298606016140866 \n",
      "\n",
      "col = V13, rate of samples > 3 = 0.0027932082590923384\n",
      "col = V13, rate of samples < -3 = 0.001483073053139084 \n",
      "\n",
      "col = V14, rate of samples > 3 = 0.0025311812179016875\n",
      "col = V14, rate of samples < -3 = 0.009233832931558536 \n",
      "\n",
      "col = V15, rate of samples > 3 = 0.0007389162561576355\n",
      "col = V15, rate of samples < -3 = 0.003668378576669112 \n",
      "\n",
      "col = V16, rate of samples > 3 = 0.0011634000628864898\n",
      "col = V16, rate of samples < -3 = 0.006283408447751808 \n",
      "\n",
      "col = V17, rate of samples > 3 = 0.007174300387800021\n",
      "col = V17, rate of samples < -3 = 0.0016193271145582223 \n",
      "\n",
      "col = V18, rate of samples > 3 = 0.0020438109212870766\n",
      "col = V18, rate of samples < -3 = 0.003982811026097893 \n",
      "\n",
      "col = V19, rate of samples > 3 = 0.007923697725605283\n",
      "col = V19, rate of samples < -3 = 0.0040719002201027145 \n",
      "\n",
      "col = V20, rate of samples > 3 = 0.010669741117283303\n",
      "col = V20, rate of samples < -3 = 0.005235300282989204 \n",
      "\n",
      "col = V21, rate of samples > 3 = 0.008536841001991405\n",
      "col = V21, rate of samples < -3 = 0.005811759773608636 \n",
      "\n",
      "col = V22, rate of samples > 3 = 0.001173881144534116\n",
      "col = V22, rate of samples < -3 = 0.0031652866575830624 \n",
      "\n",
      "col = V23, rate of samples > 3 = 0.006445865213290012\n",
      "col = V23, rate of samples < -3 = 0.004999475945917618 \n",
      "\n",
      "col = V24, rate of samples > 3 = 0.00043496488837648043\n",
      "col = V24, rate of samples < -3 = 0.0018970757782203124 \n",
      "\n",
      "col = V25, rate of samples > 3 = 0.0025835866261398176\n",
      "col = V25, rate of samples < -3 = 0.0073210355308667855 \n",
      "\n",
      "col = V26, rate of samples > 3 = 0.0034063515354784612\n",
      "col = V26, rate of samples < -3 = 0.00019914055130489466 \n",
      "\n",
      "col = V27, rate of samples > 3 = 0.0061838381720993605\n",
      "col = V27, rate of samples < -3 = 0.010444397861859344 \n",
      "\n",
      "col = V28, rate of samples > 3 = 0.0037155434440834293\n",
      "col = V28, rate of samples < -3 = 0.007855570694895713 \n",
      "\n",
      "col = Amount, rate of samples > 3 = 0.013525835866261398\n",
      "col = Amount, rate of samples < -3 = 0.0 \n",
      "\n"
     ]
    }
   ],
   "source": [
    "total = X_train_z.shape[0]\n",
    "for col in X_train_z.columns:\n",
    "    up_b = 3\n",
    "    lw_b = -3\n",
    "    sub1 = X_train_z[X_train_z[col] > up_b]\n",
    "    sub2 = X_train_z[X_train_z[col] < lw_b]\n",
    "    print('col = {}, rate of samples > {} = {}'.format(col,up_b,sub1.shape[0]/total))\n",
    "    print('col = {}, rate of samples < {} = {} \\n'.format(col,lw_b,sub2.shape[0]/total))\n",
    "\n",
    "#nenhuma taxa significante"
   ]
  },
  {
   "cell_type": "markdown",
   "metadata": {},
   "source": [
    "# Outliers Handle"
   ]
  },
  {
   "cell_type": "markdown",
   "metadata": {},
   "source": [
    "## Top Coding: Top Coding means capping the maximum of the distribution at an arbitrary set value. By implementing top coding, the outlier is capped at a certain maximum value and looks like many other observations.\n",
    "## Bottom coding: Is analogous but on the left side of the distribution. That is, all values below a certain threshold, are capped to that threshold. If the threshold is zero, then it is known as zero-coding. "
   ]
  },
  {
   "cell_type": "code",
   "execution_count": 280,
   "metadata": {
    "scrolled": true
   },
   "outputs": [
    {
     "name": "stderr",
     "output_type": "stream",
     "text": [
      "/home/titowoche30/anaconda3/lib/python3.7/site-packages/pandas/core/indexing.py:670: SettingWithCopyWarning: \n",
      "A value is trying to be set on a copy of a slice from a DataFrame\n",
      "\n",
      "See the caveats in the documentation: https://pandas.pydata.org/pandas-docs/stable/user_guide/indexing.html#returning-a-view-versus-a-copy\n",
      "  self._setitem_with_indexer(indexer, value)\n",
      "/home/titowoche30/anaconda3/lib/python3.7/site-packages/ipykernel_launcher.py:4: SettingWithCopyWarning: \n",
      "A value is trying to be set on a copy of a slice from a DataFrame\n",
      "\n",
      "See the caveats in the documentation: https://pandas.pydata.org/pandas-docs/stable/user_guide/indexing.html#returning-a-view-versus-a-copy\n",
      "  after removing the cwd from sys.path.\n",
      "/home/titowoche30/anaconda3/lib/python3.7/site-packages/ipykernel_launcher.py:5: SettingWithCopyWarning: \n",
      "A value is trying to be set on a copy of a slice from a DataFrame\n",
      "\n",
      "See the caveats in the documentation: https://pandas.pydata.org/pandas-docs/stable/user_guide/indexing.html#returning-a-view-versus-a-copy\n",
      "  \"\"\"\n",
      "/home/titowoche30/anaconda3/lib/python3.7/site-packages/ipykernel_launcher.py:9: SettingWithCopyWarning: \n",
      "A value is trying to be set on a copy of a slice from a DataFrame\n",
      "\n",
      "See the caveats in the documentation: https://pandas.pydata.org/pandas-docs/stable/user_guide/indexing.html#returning-a-view-versus-a-copy\n",
      "  if __name__ == '__main__':\n",
      "/home/titowoche30/anaconda3/lib/python3.7/site-packages/ipykernel_launcher.py:10: SettingWithCopyWarning: \n",
      "A value is trying to be set on a copy of a slice from a DataFrame\n",
      "\n",
      "See the caveats in the documentation: https://pandas.pydata.org/pandas-docs/stable/user_guide/indexing.html#returning-a-view-versus-a-copy\n",
      "  # Remove the CWD from sys.path while we load stuff.\n"
     ]
    }
   ],
   "source": [
    "for col in X_train.columns:\n",
    "    up_b_train = upper_bound_train[col]\n",
    "    lw_b_train = lower_bound_train[col]\n",
    "    X_train.loc[X_train[col]>up_b_train,col] = up_b_train\n",
    "    X_train.loc[X_train[col]<lw_b_train,col] = lw_b_train\n",
    "\n",
    "    up_b_test = upper_bound_test[col]\n",
    "    lw_b_test = lower_bound_test[col]\n",
    "    X_test.loc[X_test[col]>up_b_test,col] = up_b_test\n",
    "    X_test.loc[X_test[col]<lw_b_test,col] = lw_b_test"
   ]
  },
  {
   "cell_type": "code",
   "execution_count": 172,
   "metadata": {},
   "outputs": [],
   "source": [
    "from sklearn.preprocessing import MinMaxScaler"
   ]
  },
  {
   "cell_type": "code",
   "execution_count": 325,
   "metadata": {
    "scrolled": true
   },
   "outputs": [
    {
     "name": "stderr",
     "output_type": "stream",
     "text": [
      "/home/titowoche30/anaconda3/lib/python3.7/site-packages/pandas/core/indexing.py:670: SettingWithCopyWarning: \n",
      "A value is trying to be set on a copy of a slice from a DataFrame\n",
      "\n",
      "See the caveats in the documentation: https://pandas.pydata.org/pandas-docs/stable/user_guide/indexing.html#returning-a-view-versus-a-copy\n",
      "  self._setitem_with_indexer(indexer, value)\n",
      "/home/titowoche30/anaconda3/lib/python3.7/site-packages/pandas/core/frame.py:3041: SettingWithCopyWarning: \n",
      "A value is trying to be set on a copy of a slice from a DataFrame\n",
      "\n",
      "See the caveats in the documentation: https://pandas.pydata.org/pandas-docs/stable/user_guide/indexing.html#returning-a-view-versus-a-copy\n",
      "  self.loc[index, col] = value\n",
      "/home/titowoche30/anaconda3/lib/python3.7/site-packages/pandas/core/indexing.py:670: SettingWithCopyWarning: \n",
      "A value is trying to be set on a copy of a slice from a DataFrame\n",
      "\n",
      "See the caveats in the documentation: https://pandas.pydata.org/pandas-docs/stable/user_guide/indexing.html#returning-a-view-versus-a-copy\n",
      "  self._setitem_with_indexer(indexer, value)\n",
      "/home/titowoche30/anaconda3/lib/python3.7/site-packages/pandas/core/frame.py:3041: SettingWithCopyWarning: \n",
      "A value is trying to be set on a copy of a slice from a DataFrame\n",
      "\n",
      "See the caveats in the documentation: https://pandas.pydata.org/pandas-docs/stable/user_guide/indexing.html#returning-a-view-versus-a-copy\n",
      "  self.loc[index, col] = value\n"
     ]
    }
   ],
   "source": [
    "scaler=MinMaxScaler()\n",
    "\n",
    "normalized_data_train = scaler.fit_transform(X_train)\n",
    "X_train.at[:] = normalized_data_train\n",
    "\n",
    "normalized_data_test = scaler.transform(X_test)\n",
    "X_test.at[:] = normalized_data_test"
   ]
  },
  {
   "cell_type": "code",
   "execution_count": 326,
   "metadata": {},
   "outputs": [
    {
     "data": {
      "text/html": [
       "<div>\n",
       "<style scoped>\n",
       "    .dataframe tbody tr th:only-of-type {\n",
       "        vertical-align: middle;\n",
       "    }\n",
       "\n",
       "    .dataframe tbody tr th {\n",
       "        vertical-align: top;\n",
       "    }\n",
       "\n",
       "    .dataframe thead th {\n",
       "        text-align: right;\n",
       "    }\n",
       "</style>\n",
       "<table border=\"1\" class=\"dataframe\">\n",
       "  <thead>\n",
       "    <tr style=\"text-align: right;\">\n",
       "      <th></th>\n",
       "      <th>V1</th>\n",
       "      <th>V2</th>\n",
       "      <th>V3</th>\n",
       "      <th>V4</th>\n",
       "      <th>V5</th>\n",
       "      <th>V6</th>\n",
       "      <th>V7</th>\n",
       "      <th>V8</th>\n",
       "      <th>V9</th>\n",
       "      <th>V10</th>\n",
       "      <th>...</th>\n",
       "      <th>V20</th>\n",
       "      <th>V21</th>\n",
       "      <th>V22</th>\n",
       "      <th>V23</th>\n",
       "      <th>V24</th>\n",
       "      <th>V25</th>\n",
       "      <th>V26</th>\n",
       "      <th>V27</th>\n",
       "      <th>V28</th>\n",
       "      <th>Amount</th>\n",
       "    </tr>\n",
       "  </thead>\n",
       "  <tbody>\n",
       "    <tr>\n",
       "      <th>count</th>\n",
       "      <td>190820.000000</td>\n",
       "      <td>190820.000000</td>\n",
       "      <td>190820.000000</td>\n",
       "      <td>190820.000000</td>\n",
       "      <td>190820.000000</td>\n",
       "      <td>190820.000000</td>\n",
       "      <td>190820.000000</td>\n",
       "      <td>190820.000000</td>\n",
       "      <td>190820.000000</td>\n",
       "      <td>190820.000000</td>\n",
       "      <td>...</td>\n",
       "      <td>190820.000000</td>\n",
       "      <td>190820.000000</td>\n",
       "      <td>190820.000000</td>\n",
       "      <td>190820.000000</td>\n",
       "      <td>190820.000000</td>\n",
       "      <td>190820.000000</td>\n",
       "      <td>190820.000000</td>\n",
       "      <td>190820.000000</td>\n",
       "      <td>190820.000000</td>\n",
       "      <td>190820.000000</td>\n",
       "    </tr>\n",
       "    <tr>\n",
       "      <th>mean</th>\n",
       "      <td>0.958242</td>\n",
       "      <td>0.767234</td>\n",
       "      <td>0.920309</td>\n",
       "      <td>0.251922</td>\n",
       "      <td>0.765718</td>\n",
       "      <td>0.263001</td>\n",
       "      <td>0.265367</td>\n",
       "      <td>0.785385</td>\n",
       "      <td>0.562751</td>\n",
       "      <td>0.617238</td>\n",
       "      <td>...</td>\n",
       "      <td>0.580269</td>\n",
       "      <td>0.561470</td>\n",
       "      <td>0.509956</td>\n",
       "      <td>0.665434</td>\n",
       "      <td>0.382169</td>\n",
       "      <td>0.577849</td>\n",
       "      <td>0.425547</td>\n",
       "      <td>0.238385</td>\n",
       "      <td>0.313124</td>\n",
       "      <td>0.003457</td>\n",
       "    </tr>\n",
       "    <tr>\n",
       "      <th>std</th>\n",
       "      <td>0.033319</td>\n",
       "      <td>0.017598</td>\n",
       "      <td>0.028842</td>\n",
       "      <td>0.062853</td>\n",
       "      <td>0.009397</td>\n",
       "      <td>0.013449</td>\n",
       "      <td>0.007626</td>\n",
       "      <td>0.012761</td>\n",
       "      <td>0.046339</td>\n",
       "      <td>0.027284</td>\n",
       "      <td>...</td>\n",
       "      <td>0.008314</td>\n",
       "      <td>0.011777</td>\n",
       "      <td>0.033825</td>\n",
       "      <td>0.009398</td>\n",
       "      <td>0.081615</td>\n",
       "      <td>0.029327</td>\n",
       "      <td>0.078787</td>\n",
       "      <td>0.009811</td>\n",
       "      <td>0.006654</td>\n",
       "      <td>0.010079</td>\n",
       "    </tr>\n",
       "    <tr>\n",
       "      <th>min</th>\n",
       "      <td>0.000000</td>\n",
       "      <td>0.000000</td>\n",
       "      <td>0.000000</td>\n",
       "      <td>0.000000</td>\n",
       "      <td>0.000000</td>\n",
       "      <td>0.000000</td>\n",
       "      <td>0.000000</td>\n",
       "      <td>0.000000</td>\n",
       "      <td>0.000000</td>\n",
       "      <td>0.000000</td>\n",
       "      <td>...</td>\n",
       "      <td>0.000000</td>\n",
       "      <td>0.000000</td>\n",
       "      <td>0.000000</td>\n",
       "      <td>0.000000</td>\n",
       "      <td>0.000000</td>\n",
       "      <td>0.000000</td>\n",
       "      <td>0.000000</td>\n",
       "      <td>0.000000</td>\n",
       "      <td>0.000000</td>\n",
       "      <td>0.000000</td>\n",
       "    </tr>\n",
       "    <tr>\n",
       "      <th>25%</th>\n",
       "      <td>0.942623</td>\n",
       "      <td>0.760932</td>\n",
       "      <td>0.903411</td>\n",
       "      <td>0.214253</td>\n",
       "      <td>0.761076</td>\n",
       "      <td>0.255299</td>\n",
       "      <td>0.261996</td>\n",
       "      <td>0.783164</td>\n",
       "      <td>0.535615</td>\n",
       "      <td>0.603798</td>\n",
       "      <td>...</td>\n",
       "      <td>0.578010</td>\n",
       "      <td>0.557790</td>\n",
       "      <td>0.484696</td>\n",
       "      <td>0.663039</td>\n",
       "      <td>0.334432</td>\n",
       "      <td>0.560076</td>\n",
       "      <td>0.372058</td>\n",
       "      <td>0.236686</td>\n",
       "      <td>0.312046</td>\n",
       "      <td>0.000220</td>\n",
       "    </tr>\n",
       "    <tr>\n",
       "      <th>50%</th>\n",
       "      <td>0.958490</td>\n",
       "      <td>0.767967</td>\n",
       "      <td>0.923754</td>\n",
       "      <td>0.250988</td>\n",
       "      <td>0.765335</td>\n",
       "      <td>0.260268</td>\n",
       "      <td>0.265613</td>\n",
       "      <td>0.785627</td>\n",
       "      <td>0.560617</td>\n",
       "      <td>0.614908</td>\n",
       "      <td>...</td>\n",
       "      <td>0.579598</td>\n",
       "      <td>0.561002</td>\n",
       "      <td>0.510290</td>\n",
       "      <td>0.665274</td>\n",
       "      <td>0.387754</td>\n",
       "      <td>0.578724</td>\n",
       "      <td>0.417171</td>\n",
       "      <td>0.238428</td>\n",
       "      <td>0.313356</td>\n",
       "      <td>0.000856</td>\n",
       "    </tr>\n",
       "    <tr>\n",
       "      <th>75%</th>\n",
       "      <td>0.980613</td>\n",
       "      <td>0.775728</td>\n",
       "      <td>0.939850</td>\n",
       "      <td>0.284834</td>\n",
       "      <td>0.769815</td>\n",
       "      <td>0.266981</td>\n",
       "      <td>0.268830</td>\n",
       "      <td>0.788897</td>\n",
       "      <td>0.588010</td>\n",
       "      <td>0.628624</td>\n",
       "      <td>...</td>\n",
       "      <td>0.581688</td>\n",
       "      <td>0.564480</td>\n",
       "      <td>0.534568</td>\n",
       "      <td>0.667628</td>\n",
       "      <td>0.441421</td>\n",
       "      <td>0.597569</td>\n",
       "      <td>0.465004</td>\n",
       "      <td>0.240600</td>\n",
       "      <td>0.314720</td>\n",
       "      <td>0.003012</td>\n",
       "    </tr>\n",
       "    <tr>\n",
       "      <th>max</th>\n",
       "      <td>1.000000</td>\n",
       "      <td>1.000000</td>\n",
       "      <td>1.000000</td>\n",
       "      <td>1.000000</td>\n",
       "      <td>1.000000</td>\n",
       "      <td>1.000000</td>\n",
       "      <td>1.000000</td>\n",
       "      <td>1.000000</td>\n",
       "      <td>1.000000</td>\n",
       "      <td>1.000000</td>\n",
       "      <td>...</td>\n",
       "      <td>1.000000</td>\n",
       "      <td>1.000000</td>\n",
       "      <td>1.000000</td>\n",
       "      <td>1.000000</td>\n",
       "      <td>1.000000</td>\n",
       "      <td>1.000000</td>\n",
       "      <td>1.000000</td>\n",
       "      <td>1.000000</td>\n",
       "      <td>1.000000</td>\n",
       "      <td>1.000000</td>\n",
       "    </tr>\n",
       "  </tbody>\n",
       "</table>\n",
       "<p>8 rows × 29 columns</p>\n",
       "</div>"
      ],
      "text/plain": [
       "                  V1             V2             V3             V4  \\\n",
       "count  190820.000000  190820.000000  190820.000000  190820.000000   \n",
       "mean        0.958242       0.767234       0.920309       0.251922   \n",
       "std         0.033319       0.017598       0.028842       0.062853   \n",
       "min         0.000000       0.000000       0.000000       0.000000   \n",
       "25%         0.942623       0.760932       0.903411       0.214253   \n",
       "50%         0.958490       0.767967       0.923754       0.250988   \n",
       "75%         0.980613       0.775728       0.939850       0.284834   \n",
       "max         1.000000       1.000000       1.000000       1.000000   \n",
       "\n",
       "                  V5             V6             V7             V8  \\\n",
       "count  190820.000000  190820.000000  190820.000000  190820.000000   \n",
       "mean        0.765718       0.263001       0.265367       0.785385   \n",
       "std         0.009397       0.013449       0.007626       0.012761   \n",
       "min         0.000000       0.000000       0.000000       0.000000   \n",
       "25%         0.761076       0.255299       0.261996       0.783164   \n",
       "50%         0.765335       0.260268       0.265613       0.785627   \n",
       "75%         0.769815       0.266981       0.268830       0.788897   \n",
       "max         1.000000       1.000000       1.000000       1.000000   \n",
       "\n",
       "                  V9            V10  ...            V20            V21  \\\n",
       "count  190820.000000  190820.000000  ...  190820.000000  190820.000000   \n",
       "mean        0.562751       0.617238  ...       0.580269       0.561470   \n",
       "std         0.046339       0.027284  ...       0.008314       0.011777   \n",
       "min         0.000000       0.000000  ...       0.000000       0.000000   \n",
       "25%         0.535615       0.603798  ...       0.578010       0.557790   \n",
       "50%         0.560617       0.614908  ...       0.579598       0.561002   \n",
       "75%         0.588010       0.628624  ...       0.581688       0.564480   \n",
       "max         1.000000       1.000000  ...       1.000000       1.000000   \n",
       "\n",
       "                 V22            V23            V24            V25  \\\n",
       "count  190820.000000  190820.000000  190820.000000  190820.000000   \n",
       "mean        0.509956       0.665434       0.382169       0.577849   \n",
       "std         0.033825       0.009398       0.081615       0.029327   \n",
       "min         0.000000       0.000000       0.000000       0.000000   \n",
       "25%         0.484696       0.663039       0.334432       0.560076   \n",
       "50%         0.510290       0.665274       0.387754       0.578724   \n",
       "75%         0.534568       0.667628       0.441421       0.597569   \n",
       "max         1.000000       1.000000       1.000000       1.000000   \n",
       "\n",
       "                 V26            V27            V28         Amount  \n",
       "count  190820.000000  190820.000000  190820.000000  190820.000000  \n",
       "mean        0.425547       0.238385       0.313124       0.003457  \n",
       "std         0.078787       0.009811       0.006654       0.010079  \n",
       "min         0.000000       0.000000       0.000000       0.000000  \n",
       "25%         0.372058       0.236686       0.312046       0.000220  \n",
       "50%         0.417171       0.238428       0.313356       0.000856  \n",
       "75%         0.465004       0.240600       0.314720       0.003012  \n",
       "max         1.000000       1.000000       1.000000       1.000000  \n",
       "\n",
       "[8 rows x 29 columns]"
      ]
     },
     "execution_count": 326,
     "metadata": {},
     "output_type": "execute_result"
    }
   ],
   "source": [
    "X_train.describe()"
   ]
  },
  {
   "cell_type": "code",
   "execution_count": 327,
   "metadata": {},
   "outputs": [
    {
     "data": {
      "text/html": [
       "<div>\n",
       "<style scoped>\n",
       "    .dataframe tbody tr th:only-of-type {\n",
       "        vertical-align: middle;\n",
       "    }\n",
       "\n",
       "    .dataframe tbody tr th {\n",
       "        vertical-align: top;\n",
       "    }\n",
       "\n",
       "    .dataframe thead th {\n",
       "        text-align: right;\n",
       "    }\n",
       "</style>\n",
       "<table border=\"1\" class=\"dataframe\">\n",
       "  <thead>\n",
       "    <tr style=\"text-align: right;\">\n",
       "      <th></th>\n",
       "      <th>V1</th>\n",
       "      <th>V2</th>\n",
       "      <th>V3</th>\n",
       "      <th>V4</th>\n",
       "      <th>V5</th>\n",
       "      <th>V6</th>\n",
       "      <th>V7</th>\n",
       "      <th>V8</th>\n",
       "      <th>V9</th>\n",
       "      <th>V10</th>\n",
       "      <th>...</th>\n",
       "      <th>V20</th>\n",
       "      <th>V21</th>\n",
       "      <th>V22</th>\n",
       "      <th>V23</th>\n",
       "      <th>V24</th>\n",
       "      <th>V25</th>\n",
       "      <th>V26</th>\n",
       "      <th>V27</th>\n",
       "      <th>V28</th>\n",
       "      <th>Amount</th>\n",
       "    </tr>\n",
       "  </thead>\n",
       "  <tbody>\n",
       "    <tr>\n",
       "      <th>count</th>\n",
       "      <td>93987.000000</td>\n",
       "      <td>93987.000000</td>\n",
       "      <td>93987.000000</td>\n",
       "      <td>93987.000000</td>\n",
       "      <td>93987.000000</td>\n",
       "      <td>93987.000000</td>\n",
       "      <td>93987.000000</td>\n",
       "      <td>93987.000000</td>\n",
       "      <td>93987.000000</td>\n",
       "      <td>93987.000000</td>\n",
       "      <td>...</td>\n",
       "      <td>93987.000000</td>\n",
       "      <td>93987.000000</td>\n",
       "      <td>93987.000000</td>\n",
       "      <td>93987.000000</td>\n",
       "      <td>93987.000000</td>\n",
       "      <td>93987.000000</td>\n",
       "      <td>93987.000000</td>\n",
       "      <td>93987.000000</td>\n",
       "      <td>93987.000000</td>\n",
       "      <td>93987.000000</td>\n",
       "    </tr>\n",
       "    <tr>\n",
       "      <th>mean</th>\n",
       "      <td>0.958399</td>\n",
       "      <td>0.767308</td>\n",
       "      <td>0.920139</td>\n",
       "      <td>0.251947</td>\n",
       "      <td>0.765713</td>\n",
       "      <td>0.263058</td>\n",
       "      <td>0.265331</td>\n",
       "      <td>0.785386</td>\n",
       "      <td>0.562834</td>\n",
       "      <td>0.617332</td>\n",
       "      <td>...</td>\n",
       "      <td>0.580257</td>\n",
       "      <td>0.561499</td>\n",
       "      <td>0.510184</td>\n",
       "      <td>0.665433</td>\n",
       "      <td>0.382366</td>\n",
       "      <td>0.578024</td>\n",
       "      <td>0.425247</td>\n",
       "      <td>0.238421</td>\n",
       "      <td>0.313124</td>\n",
       "      <td>0.003402</td>\n",
       "    </tr>\n",
       "    <tr>\n",
       "      <th>std</th>\n",
       "      <td>0.033189</td>\n",
       "      <td>0.017064</td>\n",
       "      <td>0.028937</td>\n",
       "      <td>0.062585</td>\n",
       "      <td>0.009073</td>\n",
       "      <td>0.013284</td>\n",
       "      <td>0.007351</td>\n",
       "      <td>0.012915</td>\n",
       "      <td>0.046577</td>\n",
       "      <td>0.027437</td>\n",
       "      <td>...</td>\n",
       "      <td>0.007990</td>\n",
       "      <td>0.011970</td>\n",
       "      <td>0.033912</td>\n",
       "      <td>0.009016</td>\n",
       "      <td>0.081602</td>\n",
       "      <td>0.029125</td>\n",
       "      <td>0.078738</td>\n",
       "      <td>0.009546</td>\n",
       "      <td>0.006788</td>\n",
       "      <td>0.008997</td>\n",
       "    </tr>\n",
       "    <tr>\n",
       "      <th>min</th>\n",
       "      <td>0.162285</td>\n",
       "      <td>0.260145</td>\n",
       "      <td>0.278874</td>\n",
       "      <td>0.003660</td>\n",
       "      <td>0.528871</td>\n",
       "      <td>0.053195</td>\n",
       "      <td>0.012492</td>\n",
       "      <td>0.244536</td>\n",
       "      <td>-0.004813</td>\n",
       "      <td>0.004646</td>\n",
       "      <td>...</td>\n",
       "      <td>0.282032</td>\n",
       "      <td>0.192494</td>\n",
       "      <td>0.095452</td>\n",
       "      <td>0.177895</td>\n",
       "      <td>0.001587</td>\n",
       "      <td>0.089743</td>\n",
       "      <td>0.087553</td>\n",
       "      <td>-0.305257</td>\n",
       "      <td>0.075474</td>\n",
       "      <td>0.000000</td>\n",
       "    </tr>\n",
       "    <tr>\n",
       "      <th>25%</th>\n",
       "      <td>0.942722</td>\n",
       "      <td>0.760963</td>\n",
       "      <td>0.903101</td>\n",
       "      <td>0.214431</td>\n",
       "      <td>0.761031</td>\n",
       "      <td>0.255288</td>\n",
       "      <td>0.261956</td>\n",
       "      <td>0.783123</td>\n",
       "      <td>0.535587</td>\n",
       "      <td>0.603904</td>\n",
       "      <td>...</td>\n",
       "      <td>0.578012</td>\n",
       "      <td>0.557812</td>\n",
       "      <td>0.484801</td>\n",
       "      <td>0.663011</td>\n",
       "      <td>0.334498</td>\n",
       "      <td>0.560173</td>\n",
       "      <td>0.371970</td>\n",
       "      <td>0.236700</td>\n",
       "      <td>0.312055</td>\n",
       "      <td>0.000215</td>\n",
       "    </tr>\n",
       "    <tr>\n",
       "      <th>50%</th>\n",
       "      <td>0.958792</td>\n",
       "      <td>0.767921</td>\n",
       "      <td>0.923517</td>\n",
       "      <td>0.251162</td>\n",
       "      <td>0.765379</td>\n",
       "      <td>0.260254</td>\n",
       "      <td>0.265571</td>\n",
       "      <td>0.785621</td>\n",
       "      <td>0.560576</td>\n",
       "      <td>0.614994</td>\n",
       "      <td>...</td>\n",
       "      <td>0.579603</td>\n",
       "      <td>0.561011</td>\n",
       "      <td>0.510465</td>\n",
       "      <td>0.665256</td>\n",
       "      <td>0.387759</td>\n",
       "      <td>0.579049</td>\n",
       "      <td>0.416474</td>\n",
       "      <td>0.238432</td>\n",
       "      <td>0.313344</td>\n",
       "      <td>0.000856</td>\n",
       "    </tr>\n",
       "    <tr>\n",
       "      <th>75%</th>\n",
       "      <td>0.980719</td>\n",
       "      <td>0.775764</td>\n",
       "      <td>0.939742</td>\n",
       "      <td>0.284991</td>\n",
       "      <td>0.769875</td>\n",
       "      <td>0.267124</td>\n",
       "      <td>0.268831</td>\n",
       "      <td>0.788898</td>\n",
       "      <td>0.588002</td>\n",
       "      <td>0.628736</td>\n",
       "      <td>...</td>\n",
       "      <td>0.581669</td>\n",
       "      <td>0.564493</td>\n",
       "      <td>0.534938</td>\n",
       "      <td>0.667622</td>\n",
       "      <td>0.441540</td>\n",
       "      <td>0.597653</td>\n",
       "      <td>0.464382</td>\n",
       "      <td>0.240572</td>\n",
       "      <td>0.314696</td>\n",
       "      <td>0.002997</td>\n",
       "    </tr>\n",
       "    <tr>\n",
       "      <th>max</th>\n",
       "      <td>0.999733</td>\n",
       "      <td>0.993769</td>\n",
       "      <td>1.098922</td>\n",
       "      <td>0.833934</td>\n",
       "      <td>0.961052</td>\n",
       "      <td>0.479690</td>\n",
       "      <td>0.490017</td>\n",
       "      <td>0.991001</td>\n",
       "      <td>1.221669</td>\n",
       "      <td>1.213372</td>\n",
       "      <td>...</td>\n",
       "      <td>0.790516</td>\n",
       "      <td>1.000000</td>\n",
       "      <td>0.900117</td>\n",
       "      <td>0.993393</td>\n",
       "      <td>0.919972</td>\n",
       "      <td>0.918679</td>\n",
       "      <td>0.991163</td>\n",
       "      <td>0.460065</td>\n",
       "      <td>0.640443</td>\n",
       "      <td>0.389239</td>\n",
       "    </tr>\n",
       "  </tbody>\n",
       "</table>\n",
       "<p>8 rows × 29 columns</p>\n",
       "</div>"
      ],
      "text/plain": [
       "                 V1            V2            V3            V4            V5  \\\n",
       "count  93987.000000  93987.000000  93987.000000  93987.000000  93987.000000   \n",
       "mean       0.958399      0.767308      0.920139      0.251947      0.765713   \n",
       "std        0.033189      0.017064      0.028937      0.062585      0.009073   \n",
       "min        0.162285      0.260145      0.278874      0.003660      0.528871   \n",
       "25%        0.942722      0.760963      0.903101      0.214431      0.761031   \n",
       "50%        0.958792      0.767921      0.923517      0.251162      0.765379   \n",
       "75%        0.980719      0.775764      0.939742      0.284991      0.769875   \n",
       "max        0.999733      0.993769      1.098922      0.833934      0.961052   \n",
       "\n",
       "                 V6            V7            V8            V9           V10  \\\n",
       "count  93987.000000  93987.000000  93987.000000  93987.000000  93987.000000   \n",
       "mean       0.263058      0.265331      0.785386      0.562834      0.617332   \n",
       "std        0.013284      0.007351      0.012915      0.046577      0.027437   \n",
       "min        0.053195      0.012492      0.244536     -0.004813      0.004646   \n",
       "25%        0.255288      0.261956      0.783123      0.535587      0.603904   \n",
       "50%        0.260254      0.265571      0.785621      0.560576      0.614994   \n",
       "75%        0.267124      0.268831      0.788898      0.588002      0.628736   \n",
       "max        0.479690      0.490017      0.991001      1.221669      1.213372   \n",
       "\n",
       "       ...           V20           V21           V22           V23  \\\n",
       "count  ...  93987.000000  93987.000000  93987.000000  93987.000000   \n",
       "mean   ...      0.580257      0.561499      0.510184      0.665433   \n",
       "std    ...      0.007990      0.011970      0.033912      0.009016   \n",
       "min    ...      0.282032      0.192494      0.095452      0.177895   \n",
       "25%    ...      0.578012      0.557812      0.484801      0.663011   \n",
       "50%    ...      0.579603      0.561011      0.510465      0.665256   \n",
       "75%    ...      0.581669      0.564493      0.534938      0.667622   \n",
       "max    ...      0.790516      1.000000      0.900117      0.993393   \n",
       "\n",
       "                V24           V25           V26           V27           V28  \\\n",
       "count  93987.000000  93987.000000  93987.000000  93987.000000  93987.000000   \n",
       "mean       0.382366      0.578024      0.425247      0.238421      0.313124   \n",
       "std        0.081602      0.029125      0.078738      0.009546      0.006788   \n",
       "min        0.001587      0.089743      0.087553     -0.305257      0.075474   \n",
       "25%        0.334498      0.560173      0.371970      0.236700      0.312055   \n",
       "50%        0.387759      0.579049      0.416474      0.238432      0.313344   \n",
       "75%        0.441540      0.597653      0.464382      0.240572      0.314696   \n",
       "max        0.919972      0.918679      0.991163      0.460065      0.640443   \n",
       "\n",
       "             Amount  \n",
       "count  93987.000000  \n",
       "mean       0.003402  \n",
       "std        0.008997  \n",
       "min        0.000000  \n",
       "25%        0.000215  \n",
       "50%        0.000856  \n",
       "75%        0.002997  \n",
       "max        0.389239  \n",
       "\n",
       "[8 rows x 29 columns]"
      ]
     },
     "execution_count": 327,
     "metadata": {},
     "output_type": "execute_result"
    }
   ],
   "source": [
    "X_test.describe()"
   ]
  },
  {
   "cell_type": "code",
   "execution_count": 176,
   "metadata": {},
   "outputs": [],
   "source": [
    "from sklearn.neighbors import KNeighborsClassifier\n",
    "from sklearn.ensemble import RandomForestClassifier\n",
    "from sklearn.linear_model import LogisticRegression\n",
    "from sklearn.svm import SVC\n",
    "from sklearn.ensemble import AdaBoostClassifier\n",
    "from sklearn.metrics import auc,precision_recall_curve"
   ]
  },
  {
   "cell_type": "code",
   "execution_count": 189,
   "metadata": {},
   "outputs": [],
   "source": [
    "dict_classifiers = {\"Random Forest\": RandomForestClassifier(random_state=42, n_jobs=3),\n",
    "    \"Nearest Neighborns\": KNeighborsClassifier(n_jobs=3),\n",
    "    \"Logistic Regression\": LogisticRegression(solver = \"liblinear\",random_state=42),\n",
    "    \"SVC\":SVC(random_state=0,probability=True),\n",
    "    \"Ada Boost\":AdaBoostClassifier(random_state=42) \n",
    "}"
   ]
  },
  {
   "cell_type": "code",
   "execution_count": 190,
   "metadata": {},
   "outputs": [],
   "source": [
    "classifiers_names = list(dict_classifiers.keys())\n",
    "classifiers_values=list(dict_classifiers.values())"
   ]
  },
  {
   "cell_type": "code",
   "execution_count": null,
   "metadata": {},
   "outputs": [],
   "source": [
    "def train_model(model):\n",
    "    model.fit(X_train,y_train)\n",
    "    y_test_pred = model.predict_proba(X_test)\n",
    "    precision, recall, thresholds = precision_recall_curve(y_test, y_test_pred[:,1])\n",
    "    _auc = auc(recall, precision)\n",
    "    print('AUC = ',_auc)\n",
    "    print('\\n')\n",
    "    return times"
   ]
  },
  {
   "cell_type": "code",
   "execution_count": 191,
   "metadata": {},
   "outputs": [],
   "source": [
    "def train_model(model):\n",
    "    model.fit(X_train_z,y_train)\n",
    "    y_test_pred = model.predict_proba(X_test_z)\n",
    "    precision, recall, thresholds = precision_recall_curve(y_test, y_test_pred[:,1])\n",
    "    _auc = auc(recall, precision)\n",
    "    print('AUC = ',_auc)\n",
    "    print('\\n')\n",
    "    return times"
   ]
  },
  {
   "cell_type": "code",
   "execution_count": 197,
   "metadata": {},
   "outputs": [
    {
     "name": "stdout",
     "output_type": "stream",
     "text": [
      "------------------Random Forest------------------\n",
      "AUC =  0.8620763382732953\n",
      "\n",
      "\n",
      "------------------Nearest Neighborns------------------\n",
      "AUC =  0.7922532338470729\n",
      "\n",
      "\n",
      "------------------Logistic Regression------------------\n",
      "AUC =  0.7857946049663416\n",
      "\n",
      "\n",
      "------------------SVC------------------\n",
      "AUC =  0.7417917938934262\n",
      "\n",
      "\n",
      "------------------Ada Boost------------------\n",
      "AUC =  0.7707813793561108\n",
      "\n",
      "\n"
     ]
    }
   ],
   "source": [
    "times=[]\n",
    "for key,value in zip(classifiers_names,classifiers_values):\n",
    "    print('------------------{}------------------'.format(key))\n",
    "    Time=train_model(value)\n",
    "    times.append(Time)"
   ]
  },
  {
   "cell_type": "code",
   "execution_count": 216,
   "metadata": {},
   "outputs": [],
   "source": [
    "from sklearn.metrics import confusion_matrix\n",
    "from sklearn.metrics import classification_report"
   ]
  },
  {
   "cell_type": "code",
   "execution_count": 328,
   "metadata": {},
   "outputs": [
    {
     "data": {
      "text/plain": [
       "RandomForestClassifier(bootstrap=True, ccp_alpha=0.0, class_weight=None,\n",
       "                       criterion='gini', max_depth=None, max_features='auto',\n",
       "                       max_leaf_nodes=None, max_samples=None,\n",
       "                       min_impurity_decrease=0.0, min_impurity_split=None,\n",
       "                       min_samples_leaf=1, min_samples_split=2,\n",
       "                       min_weight_fraction_leaf=0.0, n_estimators=100, n_jobs=3,\n",
       "                       oob_score=False, random_state=42, verbose=0,\n",
       "                       warm_start=False)"
      ]
     },
     "execution_count": 328,
     "metadata": {},
     "output_type": "execute_result"
    }
   ],
   "source": [
    "model = RandomForestClassifier(random_state=42, n_jobs=3)\n",
    "model.fit(X_train,y_train)"
   ]
  },
  {
   "cell_type": "code",
   "execution_count": 329,
   "metadata": {},
   "outputs": [
    {
     "data": {
      "text/plain": [
       "array([[93829,     9],\n",
       "       [   29,   120]])"
      ]
     },
     "execution_count": 329,
     "metadata": {},
     "output_type": "execute_result"
    }
   ],
   "source": [
    "y_pred_test = model.predict(X_test)\n",
    "conf_matrix = confusion_matrix(y_test, y_pred_test)\n",
    "conf_matrix"
   ]
  },
  {
   "cell_type": "code",
   "execution_count": 330,
   "metadata": {},
   "outputs": [
    {
     "name": "stdout",
     "output_type": "stream",
     "text": [
      "True Negatives =  93829\n",
      "True Positives =  120\n",
      "False Positives - Erro Tipo I =  9\n",
      "False Negatives - Erro Tipo II =  29\n"
     ]
    }
   ],
   "source": [
    "TN = conf_matrix[0,0]\n",
    "TP = conf_matrix[1,1]\n",
    "FP = conf_matrix[0,1]\n",
    "FN = conf_matrix[1,0]\n",
    "print('True Negatives = ',TN)\n",
    "print('True Positives = ', TP)\n",
    "print('False Positives - Erro Tipo I = ',FP)\n",
    "print('False Negatives - Erro Tipo II = ', FN)"
   ]
  },
  {
   "cell_type": "markdown",
   "metadata": {},
   "source": [
    "## Accuracy: Percent of predictions were correct."
   ]
  },
  {
   "cell_type": "code",
   "execution_count": 331,
   "metadata": {},
   "outputs": [
    {
     "data": {
      "text/plain": [
       "1.0"
      ]
     },
     "execution_count": 331,
     "metadata": {},
     "output_type": "execute_result"
    }
   ],
   "source": [
    "model.score(X_train,y_train)"
   ]
  },
  {
   "cell_type": "code",
   "execution_count": 332,
   "metadata": {},
   "outputs": [
    {
     "data": {
      "text/plain": [
       "0.9995956887654676"
      ]
     },
     "execution_count": 332,
     "metadata": {},
     "output_type": "execute_result"
    }
   ],
   "source": [
    "model.score(X_test,y_test)"
   ]
  },
  {
   "cell_type": "markdown",
   "metadata": {},
   "source": [
    "## Recall(TruePositiveRate):  Percent of the positive (fraudulent) cases that were correctly predicted: $\\frac{TP}{TP+FN}$"
   ]
  },
  {
   "cell_type": "code",
   "execution_count": 226,
   "metadata": {},
   "outputs": [],
   "source": [
    "# Percentual dos positivos corretamente preditos"
   ]
  },
  {
   "cell_type": "code",
   "execution_count": 333,
   "metadata": {},
   "outputs": [
    {
     "data": {
      "text/plain": [
       "0.8053691275167785"
      ]
     },
     "execution_count": 333,
     "metadata": {},
     "output_type": "execute_result"
    }
   ],
   "source": [
    "recall = TP/(TP+FN)\n",
    "recall"
   ]
  },
  {
   "cell_type": "markdown",
   "metadata": {},
   "source": [
    "### Caught 80.5% of the fraudulent transactions"
   ]
  },
  {
   "cell_type": "markdown",
   "metadata": {},
   "source": [
    "## Precision:  Percent of positive (fraudulent) predictions that  were correctly predicted: $\\frac{TP}{TP+FP}$"
   ]
  },
  {
   "cell_type": "code",
   "execution_count": 228,
   "metadata": {},
   "outputs": [],
   "source": [
    "# Percentual das predições positivas corretas, quantos dos positivos estão corretos"
   ]
  },
  {
   "cell_type": "code",
   "execution_count": 334,
   "metadata": {},
   "outputs": [
    {
     "data": {
      "text/plain": [
       "0.9302325581395349"
      ]
     },
     "execution_count": 334,
     "metadata": {},
     "output_type": "execute_result"
    }
   ],
   "source": [
    "precision=TP/(TP+FP)\n",
    "precision"
   ]
  },
  {
   "cell_type": "markdown",
   "metadata": {},
   "source": [
    "### When it predicts that a transaction is fraudulent, is correct in 93.0% of the time "
   ]
  },
  {
   "cell_type": "markdown",
   "metadata": {},
   "source": [
    "## F1-Score:  Combines Recall and Precision to one performance metric, is usually more useful than Accuracy, especially if you have an uneven class distribution : $2 * \\frac{Recall*Precision}{Recall+Precision}$"
   ]
  },
  {
   "cell_type": "code",
   "execution_count": 335,
   "metadata": {},
   "outputs": [
    {
     "data": {
      "text/plain": [
       "0.8633093525179855"
      ]
     },
     "execution_count": 335,
     "metadata": {},
     "output_type": "execute_result"
    }
   ],
   "source": [
    "2 * ((recall*precision)/(recall+precision))"
   ]
  },
  {
   "cell_type": "code",
   "execution_count": 336,
   "metadata": {},
   "outputs": [
    {
     "name": "stdout",
     "output_type": "stream",
     "text": [
      "              precision    recall  f1-score   support\n",
      "\n",
      "           0       1.00      1.00      1.00     93838\n",
      "           1       0.93      0.81      0.86       149\n",
      "\n",
      "    accuracy                           1.00     93987\n",
      "   macro avg       0.96      0.90      0.93     93987\n",
      "weighted avg       1.00      1.00      1.00     93987\n",
      "\n"
     ]
    }
   ],
   "source": [
    "print(classification_report(y_test, y_pred_test))"
   ]
  },
  {
   "cell_type": "markdown",
   "metadata": {},
   "source": [
    "## FalsePositiveRate:  Percent of negative (non-fraudulent) predictions that were incorrectly predicted: $\\frac{FP}{FP+TN}$"
   ]
  },
  {
   "cell_type": "code",
   "execution_count": 337,
   "metadata": {},
   "outputs": [
    {
     "data": {
      "text/plain": [
       "9.590997250580788e-05"
      ]
     },
     "execution_count": 337,
     "metadata": {},
     "output_type": "execute_result"
    }
   ],
   "source": [
    "FP/(FP+TN)"
   ]
  },
  {
   "cell_type": "markdown",
   "metadata": {},
   "source": [
    "###  Approximately 0.00959100% of the non-fraudulent transactions were classified incorrectly as fraudulent transactions."
   ]
  },
  {
   "cell_type": "markdown",
   "metadata": {},
   "source": [
    "# ROC Curves are used to see how well your classifier can separate positive and negative examples and to identify the best threshold for separating them. ROC curve is created by plotting the True Positive Pate (TPR) against the False Positive Rate (FPR) at various threshold settings. "
   ]
  },
  {
   "cell_type": "code",
   "execution_count": 338,
   "metadata": {},
   "outputs": [],
   "source": [
    "y_test_probs = model.predict_proba(X_test)"
   ]
  },
  {
   "cell_type": "code",
   "execution_count": 295,
   "metadata": {},
   "outputs": [],
   "source": [
    "from sklearn.metrics import roc_curve\n",
    "from sklearn.metrics import roc_auc_score\n",
    "from sklearn.metrics import precision_recall_curve\n",
    "from sklearn.metrics import auc"
   ]
  },
  {
   "cell_type": "code",
   "execution_count": 339,
   "metadata": {},
   "outputs": [],
   "source": [
    "fpr, tpr, thresholds = roc_curve(y_test, y_test_probs[:,1])"
   ]
  },
  {
   "cell_type": "code",
   "execution_count": 340,
   "metadata": {
    "scrolled": false
   },
   "outputs": [
    {
     "data": {
      "text/plain": [
       "array([2.  , 1.  , 0.99, 0.98, 0.97, 0.96, 0.95, 0.94, 0.93, 0.92, 0.91,\n",
       "       0.9 , 0.89, 0.88, 0.87, 0.85, 0.84, 0.83, 0.82, 0.79, 0.78, 0.77,\n",
       "       0.76, 0.75, 0.74, 0.72, 0.71, 0.68, 0.67, 0.64, 0.63, 0.62, 0.59,\n",
       "       0.57, 0.55, 0.5 , 0.49, 0.47, 0.43, 0.42, 0.41, 0.4 , 0.39, 0.36,\n",
       "       0.34, 0.3 , 0.28, 0.26, 0.24, 0.23, 0.22, 0.19, 0.17, 0.16, 0.15,\n",
       "       0.14, 0.13, 0.12, 0.11, 0.1 , 0.08, 0.07, 0.06, 0.05, 0.04, 0.03,\n",
       "       0.02, 0.01, 0.  ])"
      ]
     },
     "execution_count": 340,
     "metadata": {},
     "output_type": "execute_result"
    }
   ],
   "source": [
    "thresholds"
   ]
  },
  {
   "cell_type": "code",
   "execution_count": 341,
   "metadata": {},
   "outputs": [
    {
     "data": {
      "text/plain": [
       "[<matplotlib.lines.Line2D at 0x7f7b96f06a50>]"
      ]
     },
     "execution_count": 341,
     "metadata": {},
     "output_type": "execute_result"
    },
    {
     "data": {
      "image/png": "[encoded data removed]",
      "text/plain": [
       "<Figure size 1152x720 with 1 Axes>"
      ]
     },
     "metadata": {},
     "output_type": "display_data"
    }
   ],
   "source": [
    "plt.figure(figsize=(16,10))\n",
    "plt.title('False Positve Rate-True Positive Rate Curve',size='xx-large')\n",
    "plt.xlabel('False Positve Rate',size='xx-large')\n",
    "plt.ylabel('True Positive',size='xx-large')\n",
    "texts = list(zip(thresholds,fpr,tpr))\n",
    "for i in range(0,len(texts),10): plt.annotate(texts[i][0], (texts[i][1], texts[i][2]))\n",
    "plt.plot(fpr,tpr)"
   ]
  },
  {
   "cell_type": "code",
   "execution_count": 342,
   "metadata": {},
   "outputs": [
    {
     "data": {
      "text/plain": [
       "0.9449285080914116"
      ]
     },
     "execution_count": 342,
     "metadata": {},
     "output_type": "execute_result"
    }
   ],
   "source": [
    "_auc = roc_auc_score(y_test, y_test_probs[:,1])\n",
    "_auc"
   ]
  },
  {
   "cell_type": "markdown",
   "metadata": {},
   "source": [
    "# A precision-recall curve is a plot of the precision (y-axis) and the recall (x-axis) for different thresholds, much like the ROC curve."
   ]
  },
  {
   "cell_type": "code",
   "execution_count": 343,
   "metadata": {},
   "outputs": [],
   "source": [
    "precision, recall, thresholds = precision_recall_curve(y_test, y_test_probs[:,1])\n"
   ]
  },
  {
   "cell_type": "code",
   "execution_count": 344,
   "metadata": {},
   "outputs": [
    {
     "data": {
      "text/plain": [
       "array([0.  , 0.01, 0.02, 0.03, 0.04, 0.05, 0.06, 0.07, 0.08, 0.09, 0.1 ,\n",
       "       0.11, 0.12, 0.13, 0.14, 0.15, 0.16, 0.17, 0.19, 0.22, 0.23, 0.24,\n",
       "       0.26, 0.27, 0.28, 0.3 , 0.31, 0.32, 0.34, 0.36, 0.37, 0.38, 0.39,\n",
       "       0.4 , 0.41, 0.42, 0.43, 0.44, 0.45, 0.47, 0.49, 0.5 , 0.53, 0.54,\n",
       "       0.55, 0.57, 0.59, 0.6 , 0.62, 0.63, 0.64, 0.67, 0.68, 0.69, 0.71,\n",
       "       0.72, 0.74, 0.75, 0.76, 0.77, 0.78, 0.79, 0.82, 0.83, 0.84, 0.85,\n",
       "       0.86, 0.87, 0.88, 0.89, 0.9 , 0.91, 0.92, 0.93, 0.94, 0.95, 0.96,\n",
       "       0.97, 0.98, 0.99, 1.  ])"
      ]
     },
     "execution_count": 344,
     "metadata": {},
     "output_type": "execute_result"
    }
   ],
   "source": [
    "thresholds"
   ]
  },
  {
   "cell_type": "code",
   "execution_count": 345,
   "metadata": {},
   "outputs": [
    {
     "data": {
      "text/plain": [
       "[<matplotlib.lines.Line2D at 0x7f7b96ef5190>]"
      ]
     },
     "execution_count": 345,
     "metadata": {},
     "output_type": "execute_result"
    },
    {
     "data": {
      "image/png": "[encoded data removed]",
      "text/plain": [
       "<Figure size 1152x720 with 1 Axes>"
      ]
     },
     "metadata": {},
     "output_type": "display_data"
    }
   ],
   "source": [
    "plt.figure(figsize=(16,10))\n",
    "plt.title('Precision-Recall Curve',size='xx-large')\n",
    "plt.ylabel('precision',size='xx-large')\n",
    "plt.xlabel('recall',size='xx-large')\n",
    "texts = list(zip(thresholds,recall,precision))\n",
    "for i in range(0,len(texts),5): plt.annotate(texts[i][0], (texts[i][1], texts[i][2]))\n",
    "plt.plot(recall,precision)"
   ]
  },
  {
   "cell_type": "code",
   "execution_count": 346,
   "metadata": {},
   "outputs": [
    {
     "data": {
      "text/plain": [
       "0.8619174592856185"
      ]
     },
     "execution_count": 346,
     "metadata": {},
     "output_type": "execute_result"
    }
   ],
   "source": [
    "_auc = auc(recall, precision)\n",
    "_auc"
   ]
  },
  {
   "cell_type": "markdown",
   "metadata": {},
   "source": [
    "# ROC curves should be used when there are roughly equal numbers of observations for each class.\n",
    "\n",
    "# Precision-Recall curves should be used when there is a moderate to large class imbalance.(our case)"
   ]
  }
 ],
 "metadata": {
  "kernelspec": {
   "display_name": "Python 3",
   "language": "python",
   "name": "python3"
  },
  "language_info": {
   "codemirror_mode": {
    "name": "ipython",
    "version": 3
   },
   "file_extension": ".py",
   "mimetype": "text/x-python",
   "name": "python",
   "nbconvert_exporter": "python",
   "pygments_lexer": "ipython3",
   "version": "3.7.6"
  }
 },
 "nbformat": 4,
 "nbformat_minor": 4
}
